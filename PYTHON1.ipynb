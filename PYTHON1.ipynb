{
  "nbformat": 4,
  "nbformat_minor": 0,
  "metadata": {
    "colab": {
      "name": "PYTHON1.ipynb",
      "provenance": [],
      "collapsed_sections": [],
      "include_colab_link": true
    },
    "kernelspec": {
      "name": "python3",
      "display_name": "Python 3"
    }
  },
  "cells": [
    {
      "cell_type": "markdown",
      "metadata": {
        "id": "view-in-github",
        "colab_type": "text"
      },
      "source": [
        "<a href=\"https://colab.research.google.com/github/4080E074/python/blob/master/PYTHON1.ipynb\" target=\"_parent\"><img src=\"https://colab.research.google.com/assets/colab-badge.svg\" alt=\"Open In Colab\"/></a>"
      ]
    },
    {
      "cell_type": "markdown",
      "metadata": {
        "id": "NmF4AolIsAcn",
        "colab_type": "text"
      },
      "source": [
        "#受難日第一日\n",
        "##程式超簡單\n"
      ]
    },
    {
      "cell_type": "code",
      "metadata": {
        "id": "HrXCoAYiqWFi",
        "colab_type": "code",
        "colab": {
          "base_uri": "https://localhost:8080/",
          "height": 187
        },
        "outputId": "8edee6bb-4394-4f2c-9488-f35019f4fcff"
      },
      "source": [
        "print(\"      *      \")\n",
        "print(\"     ***      \")\n",
        "print(\"    *****      \")\n",
        "print(\"   *******      \")\n",
        "print(\"  *********      \")\n",
        "print(\" ***********      \")\n",
        "print(\"*************      \")\n",
        "print(\"     ***      \")\n",
        "print(\"     ***      \")\n",
        "print(\"     ***      \")\n"
      ],
      "execution_count": 6,
      "outputs": [
        {
          "output_type": "stream",
          "text": [
            "      *      \n",
            "     ***      \n",
            "    *****      \n",
            "   *******      \n",
            "  *********      \n",
            " ***********      \n",
            "*************      \n",
            "     ***      \n",
            "     ***      \n",
            "     ***      \n"
          ],
          "name": "stdout"
        }
      ]
    },
    {
      "cell_type": "code",
      "metadata": {
        "id": "BLa8fXYO0mUC",
        "colab_type": "code",
        "colab": {}
      },
      "source": [
        "a = input(\"請輸入：\")\n",
        "a\n",
        "b=a+1\n",
        "b"
      ],
      "execution_count": 0,
      "outputs": []
    },
    {
      "cell_type": "code",
      "metadata": {
        "id": "OiCGKJ28zeP7",
        "colab_type": "code",
        "colab": {
          "base_uri": "https://localhost:8080/",
          "height": 51
        },
        "outputId": "eb5768d4-5772-4919-ac00-d32800e524ed"
      },
      "source": [
        "a = int(input(\"請輸入：\"))\n",
        "a\n",
        "b=a+1\n",
        "b"
      ],
      "execution_count": 3,
      "outputs": [
        {
          "output_type": "stream",
          "text": [
            "請輸入：100\n"
          ],
          "name": "stdout"
        },
        {
          "output_type": "execute_result",
          "data": {
            "text/plain": [
              "101"
            ]
          },
          "metadata": {
            "tags": []
          },
          "execution_count": 3
        }
      ]
    },
    {
      "cell_type": "code",
      "metadata": {
        "id": "y6fRVJT-0LLU",
        "colab_type": "code",
        "colab": {}
      },
      "source": [
        "a = eval(input(\"請輸入：\"))\n",
        "a\n",
        "b=a+1\n",
        "b"
      ],
      "execution_count": 0,
      "outputs": []
    }
  ]
}